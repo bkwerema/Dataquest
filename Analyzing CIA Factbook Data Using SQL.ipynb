{
 "cells": [
  {
   "cell_type": "code",
   "execution_count": 1,
   "id": "f139825f",
   "metadata": {},
   "outputs": [
    {
     "name": "stdout",
     "output_type": "stream",
     "text": [
      "Collecting package metadata (current_repodata.json): done\n",
      "Solving environment: done\n",
      "\n",
      "# All requested packages already installed.\n",
      "\n"
     ]
    }
   ],
   "source": [
    "!conda install -yc conda-forge ipython-sql"
   ]
  },
  {
   "cell_type": "code",
   "execution_count": 2,
   "id": "b11a1a19",
   "metadata": {},
   "outputs": [],
   "source": [
    "%%capture\n",
    "%load_ext sql\n",
    "%sql sqlite:///factbook.db"
   ]
  },
  {
   "cell_type": "code",
   "execution_count": 3,
   "id": "a3664da5",
   "metadata": {},
   "outputs": [
    {
     "name": "stdout",
     "output_type": "stream",
     "text": [
      " * sqlite:///factbook.db\n",
      "Done.\n"
     ]
    },
    {
     "data": {
      "text/html": [
       "<table>\n",
       "    <thead>\n",
       "        <tr>\n",
       "            <th>id</th>\n",
       "            <th>code</th>\n",
       "            <th>name</th>\n",
       "            <th>area</th>\n",
       "            <th>area_land</th>\n",
       "            <th>area_water</th>\n",
       "            <th>population</th>\n",
       "            <th>population_growth</th>\n",
       "            <th>birth_rate</th>\n",
       "            <th>death_rate</th>\n",
       "            <th>migration_rate</th>\n",
       "        </tr>\n",
       "    </thead>\n",
       "    <tbody>\n",
       "        <tr>\n",
       "            <td>1</td>\n",
       "            <td>af</td>\n",
       "            <td>Afghanistan</td>\n",
       "            <td>652230</td>\n",
       "            <td>652230</td>\n",
       "            <td>0</td>\n",
       "            <td>32564342</td>\n",
       "            <td>2.32</td>\n",
       "            <td>38.57</td>\n",
       "            <td>13.89</td>\n",
       "            <td>1.51</td>\n",
       "        </tr>\n",
       "        <tr>\n",
       "            <td>2</td>\n",
       "            <td>al</td>\n",
       "            <td>Albania</td>\n",
       "            <td>28748</td>\n",
       "            <td>27398</td>\n",
       "            <td>1350</td>\n",
       "            <td>3029278</td>\n",
       "            <td>0.3</td>\n",
       "            <td>12.92</td>\n",
       "            <td>6.58</td>\n",
       "            <td>3.3</td>\n",
       "        </tr>\n",
       "        <tr>\n",
       "            <td>3</td>\n",
       "            <td>ag</td>\n",
       "            <td>Algeria</td>\n",
       "            <td>2381741</td>\n",
       "            <td>2381741</td>\n",
       "            <td>0</td>\n",
       "            <td>39542166</td>\n",
       "            <td>1.84</td>\n",
       "            <td>23.67</td>\n",
       "            <td>4.31</td>\n",
       "            <td>0.92</td>\n",
       "        </tr>\n",
       "        <tr>\n",
       "            <td>4</td>\n",
       "            <td>an</td>\n",
       "            <td>Andorra</td>\n",
       "            <td>468</td>\n",
       "            <td>468</td>\n",
       "            <td>0</td>\n",
       "            <td>85580</td>\n",
       "            <td>0.12</td>\n",
       "            <td>8.13</td>\n",
       "            <td>6.96</td>\n",
       "            <td>0.0</td>\n",
       "        </tr>\n",
       "        <tr>\n",
       "            <td>5</td>\n",
       "            <td>ao</td>\n",
       "            <td>Angola</td>\n",
       "            <td>1246700</td>\n",
       "            <td>1246700</td>\n",
       "            <td>0</td>\n",
       "            <td>19625353</td>\n",
       "            <td>2.78</td>\n",
       "            <td>38.78</td>\n",
       "            <td>11.49</td>\n",
       "            <td>0.46</td>\n",
       "        </tr>\n",
       "    </tbody>\n",
       "</table>"
      ],
      "text/plain": [
       "[(1, 'af', 'Afghanistan', 652230, 652230, 0, 32564342, 2.32, 38.57, 13.89, 1.51),\n",
       " (2, 'al', 'Albania', 28748, 27398, 1350, 3029278, 0.3, 12.92, 6.58, 3.3),\n",
       " (3, 'ag', 'Algeria', 2381741, 2381741, 0, 39542166, 1.84, 23.67, 4.31, 0.92),\n",
       " (4, 'an', 'Andorra', 468, 468, 0, 85580, 0.12, 8.13, 6.96, 0.0),\n",
       " (5, 'ao', 'Angola', 1246700, 1246700, 0, 19625353, 2.78, 38.78, 11.49, 0.46)]"
      ]
     },
     "execution_count": 3,
     "metadata": {},
     "output_type": "execute_result"
    }
   ],
   "source": [
    "%%sql\n",
    "select * \n",
    "from facts \n",
    "LIMIT 5;"
   ]
  },
  {
   "cell_type": "code",
   "execution_count": 4,
   "id": "1ed81cf8",
   "metadata": {},
   "outputs": [
    {
     "name": "stdout",
     "output_type": "stream",
     "text": [
      " * sqlite:///factbook.db\n",
      "Done.\n"
     ]
    },
    {
     "data": {
      "text/html": [
       "<table>\n",
       "    <thead>\n",
       "        <tr>\n",
       "            <th>Minimum population</th>\n",
       "            <th>Maximum population</th>\n",
       "            <th>Min population growth</th>\n",
       "            <th>Min Population growth</th>\n",
       "        </tr>\n",
       "    </thead>\n",
       "    <tbody>\n",
       "        <tr>\n",
       "            <td>0</td>\n",
       "            <td>7256490011</td>\n",
       "            <td>0.0</td>\n",
       "            <td>4.02</td>\n",
       "        </tr>\n",
       "    </tbody>\n",
       "</table>"
      ],
      "text/plain": [
       "[(0, 7256490011, 0.0, 4.02)]"
      ]
     },
     "execution_count": 4,
     "metadata": {},
     "output_type": "execute_result"
    }
   ],
   "source": [
    "%%sql\n",
    "SELECT MIN(population) as 'Minimum population',\n",
    "MAX(population) as 'Maximum population',  \n",
    "MIN(population_growth) as 'Min population growth',\n",
    "MAX(population_growth) as 'Min Population growth'\n",
    "FROM facts;"
   ]
  },
  {
   "cell_type": "code",
   "execution_count": 15,
   "id": "af117052",
   "metadata": {},
   "outputs": [
    {
     "name": "stdout",
     "output_type": "stream",
     "text": [
      " * sqlite:///factbook.db\n",
      "Done.\n"
     ]
    },
    {
     "data": {
      "text/html": [
       "<table>\n",
       "    <thead>\n",
       "        <tr>\n",
       "            <th>name</th>\n",
       "            <th>population</th>\n",
       "        </tr>\n",
       "    </thead>\n",
       "    <tbody>\n",
       "        <tr>\n",
       "            <td>Antarctica</td>\n",
       "            <td>0</td>\n",
       "        </tr>\n",
       "        <tr>\n",
       "            <td>Pitcairn Islands</td>\n",
       "            <td>48</td>\n",
       "        </tr>\n",
       "        <tr>\n",
       "            <td>Cocos (Keeling) Islands</td>\n",
       "            <td>596</td>\n",
       "        </tr>\n",
       "        <tr>\n",
       "            <td>Holy See (Vatican City)</td>\n",
       "            <td>842</td>\n",
       "        </tr>\n",
       "        <tr>\n",
       "            <td>Niue</td>\n",
       "            <td>1190</td>\n",
       "        </tr>\n",
       "    </tbody>\n",
       "</table>"
      ],
      "text/plain": [
       "[('Antarctica', 0),\n",
       " ('Pitcairn Islands', 48),\n",
       " ('Cocos (Keeling) Islands', 596),\n",
       " ('Holy See (Vatican City)', 842),\n",
       " ('Niue', 1190)]"
      ]
     },
     "execution_count": 15,
     "metadata": {},
     "output_type": "execute_result"
    }
   ],
   "source": [
    "%%sql\n",
    "SELECT f.name, f.population \n",
    "FROM facts AS f\n",
    "WHERE not (f.population = 'None')\n",
    "AND not (name = 'World')\n",
    "ORDER BY f.population ASC \n",
    "LIMIT 5;\n"
   ]
  },
  {
   "cell_type": "code",
   "execution_count": 16,
   "id": "4a931988",
   "metadata": {},
   "outputs": [
    {
     "name": "stdout",
     "output_type": "stream",
     "text": [
      " * sqlite:///factbook.db\n",
      "Done.\n"
     ]
    },
    {
     "data": {
      "text/html": [
       "<table>\n",
       "    <thead>\n",
       "        <tr>\n",
       "            <th>name</th>\n",
       "            <th>population</th>\n",
       "        </tr>\n",
       "    </thead>\n",
       "    <tbody>\n",
       "        <tr>\n",
       "            <td>China</td>\n",
       "            <td>1367485388</td>\n",
       "        </tr>\n",
       "        <tr>\n",
       "            <td>India</td>\n",
       "            <td>1251695584</td>\n",
       "        </tr>\n",
       "        <tr>\n",
       "            <td>European Union</td>\n",
       "            <td>513949445</td>\n",
       "        </tr>\n",
       "        <tr>\n",
       "            <td>United States</td>\n",
       "            <td>321368864</td>\n",
       "        </tr>\n",
       "        <tr>\n",
       "            <td>Indonesia</td>\n",
       "            <td>255993674</td>\n",
       "        </tr>\n",
       "    </tbody>\n",
       "</table>"
      ],
      "text/plain": [
       "[('China', 1367485388),\n",
       " ('India', 1251695584),\n",
       " ('European Union', 513949445),\n",
       " ('United States', 321368864),\n",
       " ('Indonesia', 255993674)]"
      ]
     },
     "execution_count": 16,
     "metadata": {},
     "output_type": "execute_result"
    }
   ],
   "source": [
    "%%sql\n",
    "SELECT f.name, f.population \n",
    "FROM facts AS f\n",
    "WHERE not (f.population = 'None')\n",
    "AND not (name = 'World')\n",
    "ORDER BY f.population DESC \n",
    "LIMIT 5;"
   ]
  },
  {
   "cell_type": "code",
   "execution_count": 18,
   "id": "9ba5cb40",
   "metadata": {},
   "outputs": [
    {
     "name": "stdout",
     "output_type": "stream",
     "text": [
      " * sqlite:///factbook.db\n",
      "Done.\n"
     ]
    },
    {
     "data": {
      "text/html": [
       "<table>\n",
       "    <thead>\n",
       "        <tr>\n",
       "            <th>Minimum population</th>\n",
       "            <th>Maximum population</th>\n",
       "            <th>Min population growth</th>\n",
       "            <th>Min Population growth</th>\n",
       "        </tr>\n",
       "    </thead>\n",
       "    <tbody>\n",
       "        <tr>\n",
       "            <td>0</td>\n",
       "            <td>1367485388</td>\n",
       "            <td>0.0</td>\n",
       "            <td>4.02</td>\n",
       "        </tr>\n",
       "    </tbody>\n",
       "</table>"
      ],
      "text/plain": [
       "[(0, 1367485388, 0.0, 4.02)]"
      ]
     },
     "execution_count": 18,
     "metadata": {},
     "output_type": "execute_result"
    }
   ],
   "source": [
    "%%sql\n",
    "SELECT MIN(population) as 'Minimum population',\n",
    "MAX(population) as 'Maximum population',  \n",
    "MIN(population_growth) as 'Min population growth',\n",
    "MAX(population_growth) as 'Min Population growth'\n",
    "FROM facts\n",
    "WHERE not (population = 'None')\n",
    "AND not (name = 'World');"
   ]
  },
  {
   "cell_type": "code",
   "execution_count": 20,
   "id": "e32b7313",
   "metadata": {},
   "outputs": [
    {
     "name": "stdout",
     "output_type": "stream",
     "text": [
      " * sqlite:///factbook.db\n",
      "Done.\n"
     ]
    },
    {
     "data": {
      "text/html": [
       "<table>\n",
       "    <thead>\n",
       "        <tr>\n",
       "            <th>average_population</th>\n",
       "            <th>average_area</th>\n",
       "        </tr>\n",
       "    </thead>\n",
       "    <tbody>\n",
       "        <tr>\n",
       "            <td>62094928.32</td>\n",
       "            <td>555093.55</td>\n",
       "        </tr>\n",
       "    </tbody>\n",
       "</table>"
      ],
      "text/plain": [
       "[(62094928.32, 555093.55)]"
      ]
     },
     "execution_count": 20,
     "metadata": {},
     "output_type": "execute_result"
    }
   ],
   "source": [
    "%%sql\n",
    "SELECT round(AVG(population),2) as average_population , round(AVG(area),2) as average_area\n",
    "FROM facts;"
   ]
  },
  {
   "cell_type": "code",
   "execution_count": 23,
   "id": "a8411511",
   "metadata": {},
   "outputs": [
    {
     "name": "stdout",
     "output_type": "stream",
     "text": [
      " * sqlite:///factbook.db\n",
      "Done.\n"
     ]
    },
    {
     "data": {
      "text/html": [
       "<table>\n",
       "    <thead>\n",
       "        <tr>\n",
       "            <th>name</th>\n",
       "            <th>population</th>\n",
       "            <th>area</th>\n",
       "        </tr>\n",
       "    </thead>\n",
       "    <tbody>\n",
       "        <tr>\n",
       "            <td>Bangladesh</td>\n",
       "            <td>168957745</td>\n",
       "            <td>148460</td>\n",
       "        </tr>\n",
       "        <tr>\n",
       "            <td>Germany</td>\n",
       "            <td>80854408</td>\n",
       "            <td>357022</td>\n",
       "        </tr>\n",
       "        <tr>\n",
       "            <td>Japan</td>\n",
       "            <td>126919659</td>\n",
       "            <td>377915</td>\n",
       "        </tr>\n",
       "        <tr>\n",
       "            <td>Philippines</td>\n",
       "            <td>100998376</td>\n",
       "            <td>300000</td>\n",
       "        </tr>\n",
       "        <tr>\n",
       "            <td>Thailand</td>\n",
       "            <td>67976405</td>\n",
       "            <td>513120</td>\n",
       "        </tr>\n",
       "        <tr>\n",
       "            <td>United Kingdom</td>\n",
       "            <td>64088222</td>\n",
       "            <td>243610</td>\n",
       "        </tr>\n",
       "        <tr>\n",
       "            <td>Vietnam</td>\n",
       "            <td>94348835</td>\n",
       "            <td>331210</td>\n",
       "        </tr>\n",
       "    </tbody>\n",
       "</table>"
      ],
      "text/plain": [
       "[('Bangladesh', 168957745, 148460),\n",
       " ('Germany', 80854408, 357022),\n",
       " ('Japan', 126919659, 377915),\n",
       " ('Philippines', 100998376, 300000),\n",
       " ('Thailand', 67976405, 513120),\n",
       " ('United Kingdom', 64088222, 243610),\n",
       " ('Vietnam', 94348835, 331210)]"
      ]
     },
     "execution_count": 23,
     "metadata": {},
     "output_type": "execute_result"
    }
   ],
   "source": [
    "%%sql\n",
    "SELECT name , population , area\n",
    "FROM facts \n",
    "WHERE population > (SELECT AVG(population) FROM facts)\n",
    "AND area < (SELECT AVG(area) FROM facts) ;"
   ]
  },
  {
   "cell_type": "markdown",
   "id": "aff31c22",
   "metadata": {},
   "source": [
    "Which country has the most people? Which country has the highest growth rate? "
   ]
  },
  {
   "cell_type": "code",
   "execution_count": 24,
   "id": "9332ee1c",
   "metadata": {},
   "outputs": [
    {
     "name": "stdout",
     "output_type": "stream",
     "text": [
      " * sqlite:///factbook.db\n",
      "Done.\n"
     ]
    },
    {
     "data": {
      "text/html": [
       "<table>\n",
       "    <thead>\n",
       "        <tr>\n",
       "            <th>name</th>\n",
       "            <th>MAX(population)</th>\n",
       "        </tr>\n",
       "    </thead>\n",
       "    <tbody>\n",
       "        <tr>\n",
       "            <td>China</td>\n",
       "            <td>1367485388</td>\n",
       "        </tr>\n",
       "    </tbody>\n",
       "</table>"
      ],
      "text/plain": [
       "[('China', 1367485388)]"
      ]
     },
     "execution_count": 24,
     "metadata": {},
     "output_type": "execute_result"
    }
   ],
   "source": [
    "%%sql\n",
    "SELECT name , MAX(population)\n",
    "FROM facts WHERE not (name = 'World')"
   ]
  },
  {
   "cell_type": "code",
   "execution_count": 25,
   "id": "d91b033e",
   "metadata": {},
   "outputs": [
    {
     "name": "stdout",
     "output_type": "stream",
     "text": [
      " * sqlite:///factbook.db\n",
      "Done.\n"
     ]
    },
    {
     "data": {
      "text/html": [
       "<table>\n",
       "    <thead>\n",
       "        <tr>\n",
       "            <th>name</th>\n",
       "            <th>MAX(population_growth)</th>\n",
       "        </tr>\n",
       "    </thead>\n",
       "    <tbody>\n",
       "        <tr>\n",
       "            <td>South Sudan</td>\n",
       "            <td>4.02</td>\n",
       "        </tr>\n",
       "    </tbody>\n",
       "</table>"
      ],
      "text/plain": [
       "[('South Sudan', 4.02)]"
      ]
     },
     "execution_count": 25,
     "metadata": {},
     "output_type": "execute_result"
    }
   ],
   "source": [
    "%%sql\n",
    "SELECT name , MAX(population_growth)\n",
    "FROM facts WHERE not (name = 'World')"
   ]
  },
  {
   "cell_type": "markdown",
   "id": "844f5e35",
   "metadata": {},
   "source": [
    "Which countries have the highest ratios of water to land? \n",
    "Which countries have more water than land?\n"
   ]
  },
  {
   "cell_type": "code",
   "execution_count": 28,
   "id": "adf2cdac",
   "metadata": {},
   "outputs": [
    {
     "name": "stdout",
     "output_type": "stream",
     "text": [
      " * sqlite:///factbook.db\n",
      "Done.\n"
     ]
    },
    {
     "data": {
      "text/html": [
       "<table>\n",
       "    <thead>\n",
       "        <tr>\n",
       "            <th>name</th>\n",
       "            <th>water_land_ratio</th>\n",
       "        </tr>\n",
       "    </thead>\n",
       "    <tbody>\n",
       "        <tr>\n",
       "            <td>British Indian Ocean Territory</td>\n",
       "            <td>905.6666666666666</td>\n",
       "        </tr>\n",
       "        <tr>\n",
       "            <td>Virgin Islands</td>\n",
       "            <td>4.520231213872832</td>\n",
       "        </tr>\n",
       "        <tr>\n",
       "            <td>Puerto Rico</td>\n",
       "            <td>0.5547914317925592</td>\n",
       "        </tr>\n",
       "        <tr>\n",
       "            <td>Bahamas, The</td>\n",
       "            <td>0.3866133866133866</td>\n",
       "        </tr>\n",
       "        <tr>\n",
       "            <td>Guinea-Bissau</td>\n",
       "            <td>0.2846728307254623</td>\n",
       "        </tr>\n",
       "    </tbody>\n",
       "</table>"
      ],
      "text/plain": [
       "[('British Indian Ocean Territory', 905.6666666666666),\n",
       " ('Virgin Islands', 4.520231213872832),\n",
       " ('Puerto Rico', 0.5547914317925592),\n",
       " ('Bahamas, The', 0.3866133866133866),\n",
       " ('Guinea-Bissau', 0.2846728307254623)]"
      ]
     },
     "execution_count": 28,
     "metadata": {},
     "output_type": "execute_result"
    }
   ],
   "source": [
    "%%sql\n",
    "SELECT name , cast(area_water as float)/cast(area_land as float) AS water_land_ratio\n",
    "from facts\n",
    "ORDER BY cast(area_water as float)/cast(area_land as float) DESC\n",
    "LIMIT 5"
   ]
  },
  {
   "cell_type": "markdown",
   "id": "d2bdf1c4",
   "metadata": {},
   "source": [
    "Which countries will add the most people to their populations next year? - Countries with the highest growth rate like South Sudan as shown above\n"
   ]
  },
  {
   "cell_type": "markdown",
   "id": "2c3ace4d",
   "metadata": {},
   "source": [
    "Which countries have a higher death rate than birth rate?"
   ]
  },
  {
   "cell_type": "code",
   "execution_count": null,
   "id": "c9bfb041",
   "metadata": {},
   "outputs": [],
   "source": [
    "%%sql\n",
    "SELECT name , death_rate , birth_rate\n",
    "FROM facts\n",
    "WHERE death_rate > birth_rate \n",
    "ORDER BY ;"
   ]
  }
 ],
 "metadata": {
  "kernelspec": {
   "display_name": "Python 3 (ipykernel)",
   "language": "python",
   "name": "python3"
  },
  "language_info": {
   "codemirror_mode": {
    "name": "ipython",
    "version": 3
   },
   "file_extension": ".py",
   "mimetype": "text/x-python",
   "name": "python",
   "nbconvert_exporter": "python",
   "pygments_lexer": "ipython3",
   "version": "3.10.9"
  }
 },
 "nbformat": 4,
 "nbformat_minor": 5
}
